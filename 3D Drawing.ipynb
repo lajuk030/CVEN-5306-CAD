{
 "cells": [
  {
   "cell_type": "markdown",
   "id": "c0ceb7ea-8bc7-4299-ba88-cfcf1811ea59",
   "metadata": {},
   "source": [
    "<h1> <Center> 3D Drawing </h1>"
   ]
  },
  {
   "cell_type": "code",
   "execution_count": 2,
   "id": "b3c9d7e4-f924-4603-8484-de9554470159",
   "metadata": {},
   "outputs": [],
   "source": [
    "import cadquery as cq\n",
    "from cadquery import exporters\n",
    "from jupyter_cadquery import show, set_defaults\n",
    "import os\n",
    "\n",
    "# set working directory\n",
    "path = '/Users/washemuzzamanlajuk/Desktop/Fall 2025/CAD/3d Drawing/'\n",
    "os.chdir(path)\n"
   ]
  },
  {
   "cell_type": "code",
   "execution_count": 5,
   "id": "fc534d70-e3a7-4746-a3f7-aa2ba750d5cb",
   "metadata": {},
   "outputs": [],
   "source": [
    "#Parameters\n",
    "pipe_radius = 15.0         # ft, radius of culvert pipe\n",
    "pipe_wall_thickness = 0.5  # ft, wall thickness\n",
    "invert_to_soil = 4.0       # ft, soil below pipe invert\n",
    "crown_to_road = 4.0        # ft, soil above pipe crown to road\n",
    "road_width = 50.0          # ft, extrusion length (Z-dir)\n",
    "box_extension = 4.0        # ft, soil extension beyond pipe\n",
    "road_thickness = 0.5       # ft, slab thickness\n"
   ]
  },
  {
   "cell_type": "code",
   "execution_count": 6,
   "id": "710df58a-6230-45a0-9525-01f5532bc21c",
   "metadata": {},
   "outputs": [],
   "source": [
    "#Derived dimensions\n",
    "pipe_center_y = invert_to_soil + pipe_radius\n",
    "soil_box_height = invert_to_soil + 2*pipe_radius + crown_to_road\n",
    "box_width = 2 * (pipe_radius + box_extension)\n"
   ]
  },
  {
   "cell_type": "code",
   "execution_count": 7,
   "id": "4a81dbd0-d94a-442b-91a1-bf76f66e286c",
   "metadata": {},
   "outputs": [],
   "source": [
    "#Pipe (for substraction)\n",
    "pipe_outer = cq.Workplane(\"XY\").circle(pipe_radius).extrude(road_width)\n",
    "pipe_inner = cq.Workplane(\"XY\").circle(pipe_radius - pipe_wall_thickness).extrude(road_width)\n",
    "pipe_hollow = pipe_outer.cut(pipe_inner)\n",
    "pipe_hollow = pipe_hollow.translate((0, pipe_center_y, 0))\n"
   ]
  },
  {
   "cell_type": "code",
   "execution_count": 8,
   "id": "64803ce7-59ce-4ad5-b69f-30075f7805db",
   "metadata": {},
   "outputs": [],
   "source": [
    "#Soil Box\n",
    "soil_box = cq.Workplane(\"XY\").box(box_width, soil_box_height, road_width)\n",
    "soil_box = soil_box.translate((0, soil_box_height/2, road_width/2))\n"
   ]
  },
  {
   "cell_type": "code",
   "execution_count": 9,
   "id": "3cec891b-513c-4bda-a32e-6649efc9624a",
   "metadata": {},
   "outputs": [],
   "source": [
    "#Subtract pipe from soil\n",
    "soil_with_hollow = soil_box.cut(pipe_outer.translate((0, pipe_center_y, 0)))\n"
   ]
  },
  {
   "cell_type": "code",
   "execution_count": 10,
   "id": "df6357d3-91c2-4966-9f13-0fd80382966b",
   "metadata": {},
   "outputs": [],
   "source": [
    "#Visualization pipe shell\n",
    "pipe_shell = pipe_outer.cut(pipe_inner)\n",
    "pipe_shell = pipe_shell.translate((0, pipe_center_y, 0))\n"
   ]
  },
  {
   "cell_type": "code",
   "execution_count": 11,
   "id": "28b77c28-ec58-415d-8860-56b9f96b42c3",
   "metadata": {},
   "outputs": [],
   "source": [
    "#Road slab\n",
    "road = cq.Workplane(\"XY\").box(box_width, road_thickness, road_width)\n",
    "road = road.translate((0, soil_box_height + road_thickness/2, road_width/2))\n",
    " "
   ]
  },
  {
   "cell_type": "code",
   "execution_count": 12,
   "id": "68190570-6eb2-482f-a767-7c9136ed57b1",
   "metadata": {},
   "outputs": [],
   "source": [
    "#Combine solids\n",
    "assembly = soil_with_hollow.union(pipe_shell).union(road)\n"
   ]
  },
  {
   "cell_type": "code",
   "execution_count": 13,
   "id": "9ef623a3-eed8-4b33-9c74-5de9806bb019",
   "metadata": {},
   "outputs": [
    {
     "name": "stdout",
     "output_type": "stream",
     "text": [
      "STEP file exported: \n"
     ]
    }
   ],
   "source": [
    "#Export STEP file\n",
    "exporters.export(assembly, \"pipe_shell_3D_Drawing.step\")\n",
    "print(\"STEP file exported: \")\n"
   ]
  },
  {
   "cell_type": "code",
   "execution_count": null,
   "id": "266a52de-6549-4c47-b7ce-9a615667be8d",
   "metadata": {},
   "outputs": [],
   "source": []
  }
 ],
 "metadata": {
  "kernelspec": {
   "display_name": "Python 3 (ipykernel)",
   "language": "python",
   "name": "python3"
  },
  "language_info": {
   "codemirror_mode": {
    "name": "ipython",
    "version": 3
   },
   "file_extension": ".py",
   "mimetype": "text/x-python",
   "name": "python",
   "nbconvert_exporter": "python",
   "pygments_lexer": "ipython3",
   "version": "3.10.14"
  }
 },
 "nbformat": 4,
 "nbformat_minor": 5
}
